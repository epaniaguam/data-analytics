{
 "cells": [
  {
   "cell_type": "markdown",
   "metadata": {},
   "source": [
    "# 05 Evaluación de Modelos"
   ]
  },
  {
   "cell_type": "markdown",
   "metadata": {},
   "source": []
  },
  {
   "cell_type": "markdown",
   "metadata": {},
   "source": [
    "## 1. Cargar Datos Procesados"
   ]
  },
  {
   "cell_type": "code",
   "execution_count": 11,
   "metadata": {},
   "outputs": [
    {
     "data": {
      "text/html": [
       "<div>\n",
       "<style scoped>\n",
       "    .dataframe tbody tr th:only-of-type {\n",
       "        vertical-align: middle;\n",
       "    }\n",
       "\n",
       "    .dataframe tbody tr th {\n",
       "        vertical-align: top;\n",
       "    }\n",
       "\n",
       "    .dataframe thead th {\n",
       "        text-align: right;\n",
       "    }\n",
       "</style>\n",
       "<table border=\"1\" class=\"dataframe\">\n",
       "  <thead>\n",
       "    <tr style=\"text-align: right;\">\n",
       "      <th></th>\n",
       "      <th>age</th>\n",
       "      <th>default</th>\n",
       "      <th>balance</th>\n",
       "      <th>housing</th>\n",
       "      <th>loan</th>\n",
       "      <th>day</th>\n",
       "      <th>duration</th>\n",
       "      <th>campaign</th>\n",
       "      <th>pdays</th>\n",
       "      <th>previous</th>\n",
       "      <th>...</th>\n",
       "      <th>month_jul</th>\n",
       "      <th>month_jun</th>\n",
       "      <th>month_mar</th>\n",
       "      <th>month_may</th>\n",
       "      <th>month_nov</th>\n",
       "      <th>month_oct</th>\n",
       "      <th>month_sep</th>\n",
       "      <th>poutcome_other</th>\n",
       "      <th>poutcome_success</th>\n",
       "      <th>poutcome_unknown</th>\n",
       "    </tr>\n",
       "  </thead>\n",
       "  <tbody>\n",
       "    <tr>\n",
       "      <th>0</th>\n",
       "      <td>0.285714</td>\n",
       "      <td>0</td>\n",
       "      <td>0.089318</td>\n",
       "      <td>0</td>\n",
       "      <td>0</td>\n",
       "      <td>0.133333</td>\n",
       "      <td>0.080927</td>\n",
       "      <td>0.016129</td>\n",
       "      <td>0.000000</td>\n",
       "      <td>0.000000</td>\n",
       "      <td>...</td>\n",
       "      <td>False</td>\n",
       "      <td>True</td>\n",
       "      <td>False</td>\n",
       "      <td>False</td>\n",
       "      <td>False</td>\n",
       "      <td>False</td>\n",
       "      <td>False</td>\n",
       "      <td>False</td>\n",
       "      <td>False</td>\n",
       "      <td>True</td>\n",
       "    </tr>\n",
       "    <tr>\n",
       "      <th>1</th>\n",
       "      <td>0.519481</td>\n",
       "      <td>0</td>\n",
       "      <td>0.079041</td>\n",
       "      <td>1</td>\n",
       "      <td>0</td>\n",
       "      <td>0.966667</td>\n",
       "      <td>0.069337</td>\n",
       "      <td>0.016129</td>\n",
       "      <td>0.000000</td>\n",
       "      <td>0.000000</td>\n",
       "      <td>...</td>\n",
       "      <td>False</td>\n",
       "      <td>False</td>\n",
       "      <td>False</td>\n",
       "      <td>False</td>\n",
       "      <td>False</td>\n",
       "      <td>False</td>\n",
       "      <td>False</td>\n",
       "      <td>False</td>\n",
       "      <td>False</td>\n",
       "      <td>True</td>\n",
       "    </tr>\n",
       "    <tr>\n",
       "      <th>2</th>\n",
       "      <td>0.285714</td>\n",
       "      <td>0</td>\n",
       "      <td>0.072840</td>\n",
       "      <td>0</td>\n",
       "      <td>0</td>\n",
       "      <td>0.966667</td>\n",
       "      <td>0.012810</td>\n",
       "      <td>0.032258</td>\n",
       "      <td>0.000000</td>\n",
       "      <td>0.000000</td>\n",
       "      <td>...</td>\n",
       "      <td>True</td>\n",
       "      <td>False</td>\n",
       "      <td>False</td>\n",
       "      <td>False</td>\n",
       "      <td>False</td>\n",
       "      <td>False</td>\n",
       "      <td>False</td>\n",
       "      <td>False</td>\n",
       "      <td>False</td>\n",
       "      <td>True</td>\n",
       "    </tr>\n",
       "    <tr>\n",
       "      <th>3</th>\n",
       "      <td>0.311688</td>\n",
       "      <td>0</td>\n",
       "      <td>0.075654</td>\n",
       "      <td>1</td>\n",
       "      <td>1</td>\n",
       "      <td>0.533333</td>\n",
       "      <td>0.147824</td>\n",
       "      <td>0.016129</td>\n",
       "      <td>0.000000</td>\n",
       "      <td>0.000000</td>\n",
       "      <td>...</td>\n",
       "      <td>False</td>\n",
       "      <td>False</td>\n",
       "      <td>False</td>\n",
       "      <td>False</td>\n",
       "      <td>False</td>\n",
       "      <td>False</td>\n",
       "      <td>False</td>\n",
       "      <td>False</td>\n",
       "      <td>False</td>\n",
       "      <td>True</td>\n",
       "    </tr>\n",
       "    <tr>\n",
       "      <th>4</th>\n",
       "      <td>0.803158</td>\n",
       "      <td>0</td>\n",
       "      <td>0.075402</td>\n",
       "      <td>0</td>\n",
       "      <td>0</td>\n",
       "      <td>0.861847</td>\n",
       "      <td>0.033223</td>\n",
       "      <td>0.000000</td>\n",
       "      <td>0.030015</td>\n",
       "      <td>0.002629</td>\n",
       "      <td>...</td>\n",
       "      <td>False</td>\n",
       "      <td>False</td>\n",
       "      <td>False</td>\n",
       "      <td>False</td>\n",
       "      <td>False</td>\n",
       "      <td>True</td>\n",
       "      <td>False</td>\n",
       "      <td>False</td>\n",
       "      <td>False</td>\n",
       "      <td>True</td>\n",
       "    </tr>\n",
       "  </tbody>\n",
       "</table>\n",
       "<p>5 rows × 42 columns</p>\n",
       "</div>"
      ],
      "text/plain": [
       "        age  default   balance  housing  loan       day  duration  campaign  \\\n",
       "0  0.285714        0  0.089318        0     0  0.133333  0.080927  0.016129   \n",
       "1  0.519481        0  0.079041        1     0  0.966667  0.069337  0.016129   \n",
       "2  0.285714        0  0.072840        0     0  0.966667  0.012810  0.032258   \n",
       "3  0.311688        0  0.075654        1     1  0.533333  0.147824  0.016129   \n",
       "4  0.803158        0  0.075402        0     0  0.861847  0.033223  0.000000   \n",
       "\n",
       "      pdays  previous  ...  month_jul  month_jun  month_mar  month_may  \\\n",
       "0  0.000000  0.000000  ...      False       True      False      False   \n",
       "1  0.000000  0.000000  ...      False      False      False      False   \n",
       "2  0.000000  0.000000  ...       True      False      False      False   \n",
       "3  0.000000  0.000000  ...      False      False      False      False   \n",
       "4  0.030015  0.002629  ...      False      False      False      False   \n",
       "\n",
       "   month_nov  month_oct  month_sep  poutcome_other  poutcome_success  \\\n",
       "0      False      False      False           False             False   \n",
       "1      False      False      False           False             False   \n",
       "2      False      False      False           False             False   \n",
       "3      False      False      False           False             False   \n",
       "4      False       True      False           False             False   \n",
       "\n",
       "   poutcome_unknown  \n",
       "0              True  \n",
       "1              True  \n",
       "2              True  \n",
       "3              True  \n",
       "4              True  \n",
       "\n",
       "[5 rows x 42 columns]"
      ]
     },
     "execution_count": 11,
     "metadata": {},
     "output_type": "execute_result"
    }
   ],
   "source": [
    "## 1. Cargar el Conjunto de Datos\n",
    "# Importar la librería necesarias\n",
    "import numpy as np\n",
    "import pandas as pd\n",
    "import matplotlib.pyplot as plt\n",
    "from sklearn.metrics import classification_report, confusion_matrix, accuracy_score\n",
    "\n",
    "# Seleccionar el tipo de balanceo a utilizar\n",
    "tipo_balanceo = 'oversampled' # 'original', 'oversampled', 'undersampled'\n",
    "\n",
    "if tipo_balanceo == 'original':\n",
    "    dir_path = '../data/interim'\n",
    "elif tipo_balanceo == 'oversampled':\n",
    "    dir_path = '../data/processed/oversampled'\n",
    "elif tipo_balanceo == 'undersampled':\n",
    "    dir_path = '../data/processed/undersampled'\n",
    "\n",
    "# Cargar el conjunto de datos\n",
    "X_test = pd.read_csv(f'{dir_path}/X_test.csv')\n",
    "y_test = pd.read_csv(f'{dir_path}/y_test.csv')\n",
    "\n",
    "# Mostrar los primeros registros de los datos de entrenamiento\n",
    "X_test.head()"
   ]
  },
  {
   "cell_type": "markdown",
   "metadata": {},
   "source": [
    "## 2. Cargar Modelos Preentrenados"
   ]
  },
  {
   "cell_type": "code",
   "execution_count": 12,
   "metadata": {},
   "outputs": [],
   "source": [
    "import joblib\n",
    "\n",
    "# Carga Modelos preentrenados\n",
    "lr = joblib.load('../models/1_lr_model.pkl')\n",
    "dt = joblib.load('../models/2_dt_model.pkl')\n",
    "rf = joblib.load('../models/3_rf_model.pkl')\n",
    "gb = joblib.load('../models/4_gb_model.pkl')\n",
    "knn = joblib.load('../models/5_knn_model.pkl')\n",
    "nb = joblib.load('../models/6_nb_model.pkl')\n",
    "mlp = joblib.load('../models/7_mlp_model.pkl')\n",
    "# svc = joblib.load('../models/8_svc_model.pkl')"
   ]
  },
  {
   "cell_type": "markdown",
   "metadata": {},
   "source": [
    "## 3. Evaluacion de Modelos"
   ]
  },
  {
   "cell_type": "markdown",
   "metadata": {},
   "source": [
    "### 3.1. Entrenamiento de un Modelo de Regresión Logística"
   ]
  },
  {
   "cell_type": "code",
   "execution_count": 13,
   "metadata": {},
   "outputs": [
    {
     "name": "stdout",
     "output_type": "stream",
     "text": [
      "Accuracy: 0.8509593707730073\n",
      "Confusion Matrix:\n",
      " [[8538 1447]\n",
      " [1528 8448]]\n",
      "Classification Report:\n",
      "               precision    recall  f1-score   support\n",
      "\n",
      "           0       0.85      0.86      0.85      9985\n",
      "           1       0.85      0.85      0.85      9976\n",
      "\n",
      "    accuracy                           0.85     19961\n",
      "   macro avg       0.85      0.85      0.85     19961\n",
      "weighted avg       0.85      0.85      0.85     19961\n",
      "\n"
     ]
    }
   ],
   "source": [
    "# Hacer predicciones en el conjunto de prueba\n",
    "y_pred_lr = lr.predict(X_test)\n",
    "\n",
    "# Evaluar el modelo\n",
    "print(\"Accuracy:\", accuracy_score(y_test, y_pred_lr))\n",
    "print(\"Confusion Matrix:\\n\", confusion_matrix(y_test, y_pred_lr))\n",
    "print(\"Classification Report:\\n\", classification_report(y_test, y_pred_lr))"
   ]
  },
  {
   "cell_type": "markdown",
   "metadata": {},
   "source": [
    "### 3.2. Entrenamiento de un Modelo de Árbol de Decisión"
   ]
  },
  {
   "cell_type": "code",
   "execution_count": 14,
   "metadata": {},
   "outputs": [
    {
     "name": "stdout",
     "output_type": "stream",
     "text": [
      "Accuracy: 0.8914884023846501\n",
      "Confusion Matrix:\n",
      " [[8837 1148]\n",
      " [1018 8958]]\n",
      "Classification Report:\n",
      "               precision    recall  f1-score   support\n",
      "\n",
      "           0       0.90      0.89      0.89      9985\n",
      "           1       0.89      0.90      0.89      9976\n",
      "\n",
      "    accuracy                           0.89     19961\n",
      "   macro avg       0.89      0.89      0.89     19961\n",
      "weighted avg       0.89      0.89      0.89     19961\n",
      "\n"
     ]
    }
   ],
   "source": [
    "# Hacer predicciones en el conjunto de prueba\n",
    "y_pred_dt = dt.predict(X_test)\n",
    "\n",
    "# Evaluar el modelo\n",
    "print(\"Accuracy:\", accuracy_score(y_test, y_pred_dt))\n",
    "print(\"Confusion Matrix:\\n\", confusion_matrix(y_test, y_pred_dt))\n",
    "print(\"Classification Report:\\n\", classification_report(y_test, y_pred_dt))"
   ]
  },
  {
   "cell_type": "markdown",
   "metadata": {},
   "source": [
    "### 3.3. Entrenamiento de un Modelo de Bosque Aleatorio"
   ]
  },
  {
   "cell_type": "code",
   "execution_count": 15,
   "metadata": {},
   "outputs": [
    {
     "name": "stdout",
     "output_type": "stream",
     "text": [
      "Accuracy: 0.9384800360703371\n",
      "Confusion Matrix:\n",
      " [[9067  918]\n",
      " [ 310 9666]]\n",
      "Classification Report:\n",
      "               precision    recall  f1-score   support\n",
      "\n",
      "           0       0.97      0.91      0.94      9985\n",
      "           1       0.91      0.97      0.94      9976\n",
      "\n",
      "    accuracy                           0.94     19961\n",
      "   macro avg       0.94      0.94      0.94     19961\n",
      "weighted avg       0.94      0.94      0.94     19961\n",
      "\n"
     ]
    }
   ],
   "source": [
    "# Hacer predicciones en el conjunto de prueba\n",
    "y_pred_rf = rf.predict(X_test)\n",
    "\n",
    "# Evaluar el modelo\n",
    "print(\"Accuracy:\", accuracy_score(y_test, y_pred_rf))\n",
    "print(\"Confusion Matrix:\\n\", confusion_matrix(y_test, y_pred_rf))\n",
    "print(\"Classification Report:\\n\", classification_report(y_test, y_pred_rf))"
   ]
  },
  {
   "cell_type": "markdown",
   "metadata": {},
   "source": [
    "### 3.4. Entrenamiento de un Modelo de Gradiente Boosting"
   ]
  },
  {
   "cell_type": "code",
   "execution_count": 16,
   "metadata": {},
   "outputs": [
    {
     "name": "stdout",
     "output_type": "stream",
     "text": [
      "Accuracy: 0.9042633134612494\n",
      "Confusion Matrix:\n",
      " [[8866 1119]\n",
      " [ 792 9184]]\n",
      "Classification Report:\n",
      "               precision    recall  f1-score   support\n",
      "\n",
      "           0       0.92      0.89      0.90      9985\n",
      "           1       0.89      0.92      0.91      9976\n",
      "\n",
      "    accuracy                           0.90     19961\n",
      "   macro avg       0.90      0.90      0.90     19961\n",
      "weighted avg       0.90      0.90      0.90     19961\n",
      "\n"
     ]
    }
   ],
   "source": [
    "# Hacer predicciones en el conjunto de prueba\n",
    "y_pred_gb = gb.predict(X_test)\n",
    "\n",
    "# Evaluar el modelo\n",
    "print(\"Accuracy:\", accuracy_score(y_test, y_pred_gb))\n",
    "print(\"Confusion Matrix:\\n\", confusion_matrix(y_test, y_pred_gb))\n",
    "print(\"Classification Report:\\n\", classification_report(y_test, y_pred_gb))"
   ]
  },
  {
   "cell_type": "markdown",
   "metadata": {},
   "source": [
    "### 3.5. Entrenamiento de un Modelo de K-Nearest Neighbors"
   ]
  },
  {
   "cell_type": "code",
   "execution_count": 17,
   "metadata": {},
   "outputs": [
    {
     "name": "stdout",
     "output_type": "stream",
     "text": [
      "Accuracy: 0.8856269725965633\n",
      "Confusion Matrix:\n",
      " [[8302 1683]\n",
      " [ 600 9376]]\n",
      "Classification Report:\n",
      "               precision    recall  f1-score   support\n",
      "\n",
      "           0       0.93      0.83      0.88      9985\n",
      "           1       0.85      0.94      0.89      9976\n",
      "\n",
      "    accuracy                           0.89     19961\n",
      "   macro avg       0.89      0.89      0.89     19961\n",
      "weighted avg       0.89      0.89      0.89     19961\n",
      "\n"
     ]
    }
   ],
   "source": [
    "# Hacer predicciones en el conjunto de prueba\n",
    "y_pred_knn = knn.predict(X_test)\n",
    "\n",
    "# Evaluar el modelo\n",
    "print(\"Accuracy:\", accuracy_score(y_test, y_pred_knn))\n",
    "print(\"Confusion Matrix:\\n\", confusion_matrix(y_test, y_pred_knn))\n",
    "print(\"Classification Report:\\n\", classification_report(y_test, y_pred_knn))"
   ]
  },
  {
   "cell_type": "markdown",
   "metadata": {},
   "source": [
    "### 3.6. Entrenamiento de un Modelo de Naive Bayes"
   ]
  },
  {
   "cell_type": "code",
   "execution_count": 18,
   "metadata": {},
   "outputs": [
    {
     "name": "stdout",
     "output_type": "stream",
     "text": [
      "Accuracy: 0.7104353489304143\n",
      "Confusion Matrix:\n",
      " [[8589 1396]\n",
      " [4384 5592]]\n",
      "Classification Report:\n",
      "               precision    recall  f1-score   support\n",
      "\n",
      "           0       0.66      0.86      0.75      9985\n",
      "           1       0.80      0.56      0.66      9976\n",
      "\n",
      "    accuracy                           0.71     19961\n",
      "   macro avg       0.73      0.71      0.70     19961\n",
      "weighted avg       0.73      0.71      0.70     19961\n",
      "\n"
     ]
    }
   ],
   "source": [
    "# Hacer predicciones en el conjunto de prueba\n",
    "y_pred_nb = nb.predict(X_test)\n",
    "\n",
    "# Evaluar el modelo\n",
    "print(\"Accuracy:\", accuracy_score(y_test, y_pred_nb))\n",
    "print(\"Confusion Matrix:\\n\", confusion_matrix(y_test, y_pred_nb))\n",
    "print(\"Classification Report:\\n\", classification_report(y_test, y_pred_nb))"
   ]
  },
  {
   "cell_type": "markdown",
   "metadata": {},
   "source": [
    "### 3.7. Entrenamiento de un Modelo de Red Neuronal"
   ]
  },
  {
   "cell_type": "code",
   "execution_count": 19,
   "metadata": {},
   "outputs": [
    {
     "name": "stdout",
     "output_type": "stream",
     "text": [
      "Accuracy: 0.9019588196984119\n",
      "Confusion Matrix:\n",
      " [[8775 1210]\n",
      " [ 747 9229]]\n",
      "Classification Report:\n",
      "               precision    recall  f1-score   support\n",
      "\n",
      "           0       0.92      0.88      0.90      9985\n",
      "           1       0.88      0.93      0.90      9976\n",
      "\n",
      "    accuracy                           0.90     19961\n",
      "   macro avg       0.90      0.90      0.90     19961\n",
      "weighted avg       0.90      0.90      0.90     19961\n",
      "\n"
     ]
    }
   ],
   "source": [
    "# Hacer predicciones en el conjunto de prueba\n",
    "y_pred_mlp = mlp.predict(X_test)\n",
    "\n",
    "# Evaluar el modelo\n",
    "print(\"Accuracy:\", accuracy_score(y_test, y_pred_mlp))\n",
    "print(\"Confusion Matrix:\\n\", confusion_matrix(y_test, y_pred_mlp))\n",
    "print(\"Classification Report:\\n\", classification_report(y_test, y_pred_mlp))"
   ]
  },
  {
   "cell_type": "markdown",
   "metadata": {},
   "source": [
    "### 3.8. Entrenamiento de un Modelo de Support Vector Machine (demora mucho)"
   ]
  },
  {
   "cell_type": "code",
   "execution_count": 20,
   "metadata": {},
   "outputs": [],
   "source": [
    "# Hacer predicciones en el conjunto de prueba\n",
    "# y_pred_svc = svc.predict(X_test)\n",
    "\n",
    "# Evaluar el modelo\n",
    "# print(\"Accuracy:\", accuracy_score(y_test, y_pred_svc))\n",
    "# print(\"Confusion Matrix:\\n\", confusion_matrix(y_test, y_pred_svc))\n",
    "# print(\"Classification Report:\\n\", classification_report(y_test, y_pred_svc))"
   ]
  }
 ],
 "metadata": {
  "kernelspec": {
   "display_name": ".venv",
   "language": "python",
   "name": "python3"
  },
  "language_info": {
   "codemirror_mode": {
    "name": "ipython",
    "version": 3
   },
   "file_extension": ".py",
   "mimetype": "text/x-python",
   "name": "python",
   "nbconvert_exporter": "python",
   "pygments_lexer": "ipython3",
   "version": "3.12.2"
  }
 },
 "nbformat": 4,
 "nbformat_minor": 2
}
