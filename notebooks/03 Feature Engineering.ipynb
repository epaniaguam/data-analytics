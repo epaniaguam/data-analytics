{
 "cells": [
  {
   "cell_type": "markdown",
   "metadata": {},
   "source": [
    "# 03 Construcción de Características"
   ]
  },
  {
   "cell_type": "markdown",
   "metadata": {},
   "source": [
    "Este notebook se enfoca en la creación de nuevas características y la transformación de las existentes para mejorar la capacidad predictiva del modelo."
   ]
  },
  {
   "cell_type": "markdown",
   "metadata": {},
   "source": [
    "## 1. Cargar el Conjunto de Datos"
   ]
  },
  {
   "cell_type": "code",
   "execution_count": 5,
   "metadata": {},
   "outputs": [
    {
     "data": {
      "text/html": [
       "<div>\n",
       "<style scoped>\n",
       "    .dataframe tbody tr th:only-of-type {\n",
       "        vertical-align: middle;\n",
       "    }\n",
       "\n",
       "    .dataframe tbody tr th {\n",
       "        vertical-align: top;\n",
       "    }\n",
       "\n",
       "    .dataframe thead th {\n",
       "        text-align: right;\n",
       "    }\n",
       "</style>\n",
       "<table border=\"1\" class=\"dataframe\">\n",
       "  <thead>\n",
       "    <tr style=\"text-align: right;\">\n",
       "      <th></th>\n",
       "      <th>age</th>\n",
       "      <th>default</th>\n",
       "      <th>balance</th>\n",
       "      <th>housing</th>\n",
       "      <th>loan</th>\n",
       "      <th>day</th>\n",
       "      <th>duration</th>\n",
       "      <th>campaign</th>\n",
       "      <th>pdays</th>\n",
       "      <th>previous</th>\n",
       "      <th>...</th>\n",
       "      <th>month_jul</th>\n",
       "      <th>month_jun</th>\n",
       "      <th>month_mar</th>\n",
       "      <th>month_may</th>\n",
       "      <th>month_nov</th>\n",
       "      <th>month_oct</th>\n",
       "      <th>month_sep</th>\n",
       "      <th>poutcome_other</th>\n",
       "      <th>poutcome_success</th>\n",
       "      <th>poutcome_unknown</th>\n",
       "    </tr>\n",
       "  </thead>\n",
       "  <tbody>\n",
       "    <tr>\n",
       "      <th>0</th>\n",
       "      <td>0.519481</td>\n",
       "      <td>0</td>\n",
       "      <td>0.092259</td>\n",
       "      <td>1</td>\n",
       "      <td>0</td>\n",
       "      <td>0.133333</td>\n",
       "      <td>0.053070</td>\n",
       "      <td>0.0</td>\n",
       "      <td>0.0</td>\n",
       "      <td>0.0</td>\n",
       "      <td>...</td>\n",
       "      <td>False</td>\n",
       "      <td>False</td>\n",
       "      <td>False</td>\n",
       "      <td>True</td>\n",
       "      <td>False</td>\n",
       "      <td>False</td>\n",
       "      <td>False</td>\n",
       "      <td>False</td>\n",
       "      <td>False</td>\n",
       "      <td>True</td>\n",
       "    </tr>\n",
       "    <tr>\n",
       "      <th>1</th>\n",
       "      <td>0.337662</td>\n",
       "      <td>0</td>\n",
       "      <td>0.073067</td>\n",
       "      <td>1</td>\n",
       "      <td>0</td>\n",
       "      <td>0.133333</td>\n",
       "      <td>0.030704</td>\n",
       "      <td>0.0</td>\n",
       "      <td>0.0</td>\n",
       "      <td>0.0</td>\n",
       "      <td>...</td>\n",
       "      <td>False</td>\n",
       "      <td>False</td>\n",
       "      <td>False</td>\n",
       "      <td>True</td>\n",
       "      <td>False</td>\n",
       "      <td>False</td>\n",
       "      <td>False</td>\n",
       "      <td>False</td>\n",
       "      <td>False</td>\n",
       "      <td>True</td>\n",
       "    </tr>\n",
       "    <tr>\n",
       "      <th>2</th>\n",
       "      <td>0.194805</td>\n",
       "      <td>0</td>\n",
       "      <td>0.072822</td>\n",
       "      <td>1</td>\n",
       "      <td>1</td>\n",
       "      <td>0.133333</td>\n",
       "      <td>0.015453</td>\n",
       "      <td>0.0</td>\n",
       "      <td>0.0</td>\n",
       "      <td>0.0</td>\n",
       "      <td>...</td>\n",
       "      <td>False</td>\n",
       "      <td>False</td>\n",
       "      <td>False</td>\n",
       "      <td>True</td>\n",
       "      <td>False</td>\n",
       "      <td>False</td>\n",
       "      <td>False</td>\n",
       "      <td>False</td>\n",
       "      <td>False</td>\n",
       "      <td>True</td>\n",
       "    </tr>\n",
       "    <tr>\n",
       "      <th>3</th>\n",
       "      <td>0.376623</td>\n",
       "      <td>0</td>\n",
       "      <td>0.086476</td>\n",
       "      <td>1</td>\n",
       "      <td>0</td>\n",
       "      <td>0.133333</td>\n",
       "      <td>0.018707</td>\n",
       "      <td>0.0</td>\n",
       "      <td>0.0</td>\n",
       "      <td>0.0</td>\n",
       "      <td>...</td>\n",
       "      <td>False</td>\n",
       "      <td>False</td>\n",
       "      <td>False</td>\n",
       "      <td>True</td>\n",
       "      <td>False</td>\n",
       "      <td>False</td>\n",
       "      <td>False</td>\n",
       "      <td>False</td>\n",
       "      <td>False</td>\n",
       "      <td>True</td>\n",
       "    </tr>\n",
       "    <tr>\n",
       "      <th>4</th>\n",
       "      <td>0.194805</td>\n",
       "      <td>0</td>\n",
       "      <td>0.072812</td>\n",
       "      <td>0</td>\n",
       "      <td>0</td>\n",
       "      <td>0.133333</td>\n",
       "      <td>0.040260</td>\n",
       "      <td>0.0</td>\n",
       "      <td>0.0</td>\n",
       "      <td>0.0</td>\n",
       "      <td>...</td>\n",
       "      <td>False</td>\n",
       "      <td>False</td>\n",
       "      <td>False</td>\n",
       "      <td>True</td>\n",
       "      <td>False</td>\n",
       "      <td>False</td>\n",
       "      <td>False</td>\n",
       "      <td>False</td>\n",
       "      <td>False</td>\n",
       "      <td>True</td>\n",
       "    </tr>\n",
       "  </tbody>\n",
       "</table>\n",
       "<p>5 rows × 43 columns</p>\n",
       "</div>"
      ],
      "text/plain": [
       "        age  default   balance  housing  loan       day  duration  campaign  \\\n",
       "0  0.519481        0  0.092259        1     0  0.133333  0.053070       0.0   \n",
       "1  0.337662        0  0.073067        1     0  0.133333  0.030704       0.0   \n",
       "2  0.194805        0  0.072822        1     1  0.133333  0.015453       0.0   \n",
       "3  0.376623        0  0.086476        1     0  0.133333  0.018707       0.0   \n",
       "4  0.194805        0  0.072812        0     0  0.133333  0.040260       0.0   \n",
       "\n",
       "   pdays  previous  ...  month_jul  month_jun  month_mar  month_may  \\\n",
       "0    0.0       0.0  ...      False      False      False       True   \n",
       "1    0.0       0.0  ...      False      False      False       True   \n",
       "2    0.0       0.0  ...      False      False      False       True   \n",
       "3    0.0       0.0  ...      False      False      False       True   \n",
       "4    0.0       0.0  ...      False      False      False       True   \n",
       "\n",
       "   month_nov  month_oct  month_sep  poutcome_other  poutcome_success  \\\n",
       "0      False      False      False           False             False   \n",
       "1      False      False      False           False             False   \n",
       "2      False      False      False           False             False   \n",
       "3      False      False      False           False             False   \n",
       "4      False      False      False           False             False   \n",
       "\n",
       "   poutcome_unknown  \n",
       "0              True  \n",
       "1              True  \n",
       "2              True  \n",
       "3              True  \n",
       "4              True  \n",
       "\n",
       "[5 rows x 43 columns]"
      ]
     },
     "execution_count": 5,
     "metadata": {},
     "output_type": "execute_result"
    }
   ],
   "source": [
    "## 1. Cargar el Conjunto de Datos\n",
    "# Importar la librería necesarias\n",
    "import numpy as np\n",
    "import pandas as pd\n",
    "import matplotlib.pyplot as plt\n",
    "\n",
    "# Cargar el conjunto de datos\n",
    "file_path = '../data/interim/bank-full.csv'\n",
    "data = pd.read_csv(file_path)\n",
    "\n",
    "# Definir las características (X) y la variable objetivo (y)\n",
    "X = data.drop('y', axis=1)\n",
    "y = data['y']\n",
    "\n",
    "# Mostrar las primeras filas del conjunto de datos\n",
    "data.head()"
   ]
  },
  {
   "cell_type": "markdown",
   "metadata": {},
   "source": [
    "## 2. Sobremuestreo de la Clase Minoritaria\n",
    "Duplicar o sintetizar nuevos ejemplos de la clase minoritaria."
   ]
  },
  {
   "cell_type": "code",
   "execution_count": 6,
   "metadata": {},
   "outputs": [
    {
     "name": "stdout",
     "output_type": "stream",
     "text": [
      "Antes del sobremuestreo:\n",
      "y\n",
      "0    39922\n",
      "1     5289\n",
      "Name: count, dtype: int64\n",
      "Después del sobremuestreo:\n",
      "y\n",
      "0    39922\n",
      "1    39922\n",
      "Name: count, dtype: int64\n"
     ]
    }
   ],
   "source": [
    "from imblearn.over_sampling import SMOTE\n",
    "\n",
    "# Aplicar SMOTE para sobremuestreo\n",
    "smote = SMOTE(random_state=8)\n",
    "X_oversampled, y_oversampled = smote.fit_resample(X, y)\n",
    "\n",
    "# Verificar la distribución de clases después del sobremuestreo\n",
    "print(\"Antes del sobremuestreo:\")\n",
    "print(y.value_counts())\n",
    "print(\"Después del sobremuestreo:\")\n",
    "print(y_oversampled.value_counts())"
   ]
  },
  {
   "cell_type": "code",
   "execution_count": 7,
   "metadata": {},
   "outputs": [
    {
     "name": "stdout",
     "output_type": "stream",
     "text": [
      "X_train_over shape: (59883, 42)\n",
      "X_test_over shape: (19961, 42)\n",
      "y_train_over shape: (59883,)\n",
      "y_test_over shape: (19961,)\n"
     ]
    }
   ],
   "source": [
    "from sklearn.model_selection import train_test_split\n",
    "\n",
    "# Division de datos en Train y Test\n",
    "X_train_over, X_test_over, y_train_over, y_test_over = train_test_split(X_oversampled, y_oversampled, test_size=0.25, random_state=8)\n",
    "\n",
    "# Mostrar las dimensiones de los conjuntos de datos\n",
    "print(f'X_train_over shape: {X_train_over.shape}')\n",
    "print(f'X_test_over shape: {X_test_over.shape}')\n",
    "print(f'y_train_over shape: {y_train_over.shape}')\n",
    "print(f'y_test_over shape: {y_test_over.shape}')"
   ]
  },
  {
   "cell_type": "code",
   "execution_count": 8,
   "metadata": {},
   "outputs": [],
   "source": [
    "dir_path = '../data/processed/oversampled'\n",
    "\n",
    "# Crear un DataFrame con la data completa sobremuestreada\n",
    "data_oversampled = pd.concat([X_oversampled, y_oversampled], axis=1)\n",
    "\n",
    "# Guardar la data_oversampled\n",
    "data_oversampled.to_csv(f'{dir_path}/bank-full.csv', index=False)\n",
    "\n",
    "# Guardar los conjuntos de datos preprocesados\n",
    "X_train_over.to_csv(f'{dir_path}/X_train.csv', index=False)\n",
    "X_test_over.to_csv(f'{dir_path}/X_test.csv', index=False)\n",
    "y_train_over.to_csv(f'{dir_path}/y_train.csv', index=False)\n",
    "y_test_over.to_csv(f'{dir_path}/y_test.csv', index=False)"
   ]
  },
  {
   "cell_type": "markdown",
   "metadata": {},
   "source": [
    "## 3. Submuestreo de la Clase Mayoritaria\n",
    "Eliminar ejemplos de la clase mayoritaria."
   ]
  },
  {
   "cell_type": "code",
   "execution_count": 9,
   "metadata": {},
   "outputs": [
    {
     "name": "stdout",
     "output_type": "stream",
     "text": [
      "Antes del submuestreo:\n",
      "y\n",
      "0    39922\n",
      "1     5289\n",
      "Name: count, dtype: int64\n",
      "Después del submuestreo:\n",
      "y\n",
      "0    5289\n",
      "1    5289\n",
      "Name: count, dtype: int64\n"
     ]
    }
   ],
   "source": [
    "from imblearn.under_sampling import RandomUnderSampler\n",
    "\n",
    "# Aplicar RandomUnderSampler para submuestreo\n",
    "rus = RandomUnderSampler(random_state=8)\n",
    "X_undersampled, y_undersampled = rus.fit_resample(X, y)\n",
    "\n",
    "# Verificar la distribución de clases después del submuestreo\n",
    "print(\"Antes del submuestreo:\")\n",
    "print(y.value_counts())\n",
    "print(\"Después del submuestreo:\")\n",
    "print(y_undersampled.value_counts())"
   ]
  },
  {
   "cell_type": "code",
   "execution_count": 10,
   "metadata": {},
   "outputs": [
    {
     "name": "stdout",
     "output_type": "stream",
     "text": [
      "X_train_under shape: (7933, 42)\n",
      "X_test_under shape: (2645, 42)\n",
      "y_train_under shape: (7933,)\n",
      "y_test_under shape: (2645,)\n"
     ]
    }
   ],
   "source": [
    "from sklearn.model_selection import train_test_split\n",
    "\n",
    "# Division de datos en Train y Test\n",
    "X_train_under, X_test_under, y_train_under, y_test_under = train_test_split(X_undersampled, y_undersampled, test_size=0.25, random_state=8)\n",
    "\n",
    "# Mostrar las dimensiones de los conjuntos de datos\n",
    "print(f'X_train_under shape: {X_train_under.shape}')\n",
    "print(f'X_test_under shape: {X_test_under.shape}')\n",
    "print(f'y_train_under shape: {y_train_under.shape}')\n",
    "print(f'y_test_under shape: {y_test_under.shape}')"
   ]
  },
  {
   "cell_type": "code",
   "execution_count": 12,
   "metadata": {},
   "outputs": [],
   "source": [
    "dir_path = '../data/processed/undersampled'\n",
    "\n",
    "# Crear un DataFrame con la data completa submuestreada\n",
    "data_undersampled = pd.concat([X_undersampled, y_undersampled], axis=1)\n",
    "\n",
    "# Guardar la data_undersampled\n",
    "data_undersampled.to_csv(f'{dir_path}/bank-full.csv', index=False)\n",
    "\n",
    "# Guardar los conjuntos de datos preprocesados\n",
    "X_train_under.to_csv(f'{dir_path}/X_train.csv', index=False)\n",
    "X_test_under.to_csv(f'{dir_path}/X_test.csv', index=False)\n",
    "y_train_under.to_csv(f'{dir_path}/y_train.csv', index=False)\n",
    "y_test_under.to_csv(f'{dir_path}/y_test.csv', index=False)"
   ]
  }
 ],
 "metadata": {
  "kernelspec": {
   "display_name": ".venv",
   "language": "python",
   "name": "python3"
  },
  "language_info": {
   "codemirror_mode": {
    "name": "ipython",
    "version": 3
   },
   "file_extension": ".py",
   "mimetype": "text/x-python",
   "name": "python",
   "nbconvert_exporter": "python",
   "pygments_lexer": "ipython3",
   "version": "3.12.2"
  }
 },
 "nbformat": 4,
 "nbformat_minor": 2
}
