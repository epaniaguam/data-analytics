{
 "cells": [
  {
   "cell_type": "code",
   "execution_count": 13,
   "metadata": {},
   "outputs": [],
   "source": [
    "from deep_translator import GoogleTranslator\n",
    "\n",
    "def traducir_lista(lista, num_elementos=4, capitalize=False):\n",
    "    lista_traducida = []\n",
    "    for i in range(0, len(lista), num_elementos):  # Procesar n elementos a la vez\n",
    "        elementos = lista[i:i+num_elementos]\n",
    "        cadena = '; '.join(elementos)  # Unir los elementos en una sola cadena minimizar las solicitudes de traduccion\n",
    "        if len(cadena) > 5000:  # Verificar que la cadena no exceda el límite de caracteres\n",
    "            raise ValueError('La longitud de la cadena excede el límite de 5000 caracteres')\n",
    "        traduccion = GoogleTranslator(source='english', target='spanish').translate(cadena)\n",
    "        lista_traducida.extend(traduccion.split('; '))  # Dividir la traducción en elementos individuales originales\n",
    "    if capitalize:\n",
    "        lista_traducida = list(map(lambda x: x.capitalize(), lista_traducida))\n",
    "    return lista_traducida"
   ]
  },
  {
   "cell_type": "code",
   "execution_count": 3,
   "metadata": {},
   "outputs": [],
   "source": [
    "def traducir_cadena(cadena):\n",
    "    if len(cadena) > 5000:  # Verificar que la cadena no exceda el límite de caracteres\n",
    "        raise ValueError('La longitud de la cadena excede el límite de 5000 caracteres')\n",
    "    traduccion = GoogleTranslator(source='english', target='spanish').translate(cadena)\n",
    "    return traduccion"
   ]
  },
  {
   "cell_type": "code",
   "execution_count": 4,
   "metadata": {},
   "outputs": [],
   "source": [
    "def escribir_reemplazos(lista, listaTrad, archivo):\n",
    "    for i in range(len(listaTrad)):\n",
    "        concat = f\".replace(\\\"{lista[i]}\\\",\\\"{listaTrad[i]}\\\")\"\n",
    "        with open(archivo, 'a', encoding='utf-8') as f:\n",
    "            f.write(str(concat + '\\n'))"
   ]
  },
  {
   "cell_type": "code",
   "execution_count": null,
   "metadata": {},
   "outputs": [],
   "source": [
    "pip install deep-translator joblib googletrans==4.0.0-rc1"
   ]
  },
  {
   "cell_type": "markdown",
   "metadata": {},
   "source": [
    "## TRADUCIR COLUMNAS DATASET"
   ]
  },
  {
   "cell_type": "markdown",
   "metadata": {},
   "source": [
    "## JOB"
   ]
  },
  {
   "cell_type": "code",
   "execution_count": 14,
   "metadata": {},
   "outputs": [],
   "source": [
    "trabajo = ['admin.','blue-collar','entrepreneur','housemaid','management','retired','self-employed','services','student','technician','unemployed','unknown']"
   ]
  },
  {
   "cell_type": "code",
   "execution_count": 18,
   "metadata": {},
   "outputs": [],
   "source": [
    "trabajoTrad = traducir_lista(trabajo)"
   ]
  },
  {
   "cell_type": "code",
   "execution_count": 19,
   "metadata": {},
   "outputs": [
    {
     "name": "stdout",
     "output_type": "stream",
     "text": [
      "['admin.', 'blue-collar', 'entrepreneur', 'housemaid', 'management', 'retired', 'self-employed', 'services', 'student', 'technician', 'unemployed', 'unknown']\n",
      "['administración.', 'collar azul', 'emprendedor', 'criada', 'gestión', 'jubilado', 'Trabajadores por cuenta propia', 'servicios', 'alumno', 'técnico', 'desempleados', 'desconocido']\n"
     ]
    }
   ],
   "source": [
    "print(trabajo)\n",
    "print(trabajoTrad)"
   ]
  },
  {
   "cell_type": "code",
   "execution_count": 22,
   "metadata": {},
   "outputs": [],
   "source": [
    "escribir_reemplazos(trabajo, trabajoTrad, \"./traduccion/trabajoTrad.txt\")"
   ]
  },
  {
   "cell_type": "markdown",
   "metadata": {},
   "source": [
    "## marital"
   ]
  },
  {
   "cell_type": "code",
   "execution_count": 24,
   "metadata": {},
   "outputs": [],
   "source": [
    "marital = ['divorced','married','single','unknown']\n",
    "maritalTrad = traducir_lista(marital)"
   ]
  },
  {
   "cell_type": "code",
   "execution_count": 35,
   "metadata": {},
   "outputs": [
    {
     "name": "stdout",
     "output_type": "stream",
     "text": [
      "['divorced', 'married', 'single', 'unknown']\n",
      "['divorciado', 'casado', 'soltero', 'desconocido']\n"
     ]
    }
   ],
   "source": [
    "print(marital)\n",
    "print(maritalTrad)\n"
   ]
  },
  {
   "cell_type": "code",
   "execution_count": 34,
   "metadata": {},
   "outputs": [],
   "source": [
    "escribir_reemplazos(marital, maritalTrad, './traduccion/maritalTrad.txt')"
   ]
  },
  {
   "cell_type": "markdown",
   "metadata": {},
   "source": [
    "## education"
   ]
  },
  {
   "cell_type": "code",
   "execution_count": 36,
   "metadata": {},
   "outputs": [],
   "source": [
    "education = ['primary','secondary','tertiary','unknown']\n",
    "educationTrad = traducir_lista(education)\n",
    "escribir_reemplazos(education, educationTrad, './traduccion/educationTrad.txt')"
   ]
  }
 ],
 "metadata": {
  "kernelspec": {
   "display_name": "Python 3",
   "language": "python",
   "name": "python3"
  },
  "language_info": {
   "codemirror_mode": {
    "name": "ipython",
    "version": 3
   },
   "file_extension": ".py",
   "mimetype": "text/x-python",
   "name": "python",
   "nbconvert_exporter": "python",
   "pygments_lexer": "ipython3",
   "version": "3.12.4"
  }
 },
 "nbformat": 4,
 "nbformat_minor": 2
}
